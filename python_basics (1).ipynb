{
  "nbformat": 4,
  "nbformat_minor": 0,
  "metadata": {
    "colab": {
      "provenance": []
    },
    "kernelspec": {
      "name": "python3",
      "display_name": "Python 3"
    },
    "language_info": {
      "name": "python"
    }
  },
  "cells": [
    {
      "cell_type": "code",
      "execution_count": null,
      "metadata": {
        "id": "Fc-ETGuhIm8S"
      },
      "outputs": [],
      "source": []
    },
    {
      "cell_type": "code",
      "source": [],
      "metadata": {
        "id": "xJx6qNKCP1v6"
      },
      "execution_count": null,
      "outputs": []
    },
    {
      "cell_type": "markdown",
      "source": [
        "Ques.1 Explain the key features of python that make it  a popular   choice for programming\n",
        "\n",
        "Ans. Portable Language. It is a cross-platform language.\n",
        "Standard Library\n",
        "High-Level Language\n",
        "Easy to learn and use\n",
        "Dynamic Language\n",
        "Extensible Language\n",
        "Interpreted Language\n",
        "Object-Oriented Programming Language\n",
        "\n",
        "Here are a few features of Python that make it a popular programming language in today's time.\n",
        "\n",
        "1. Portable Language\n",
        "It is a cross-platform language. It can run on Linux, macOS, and Windows. For example, you can run the Python code for Windows in Linux or macOS, too.\n",
        "\n",
        "2. Standard Library\n",
        "It offers various modules like operators, mathematical functions, libraries such as NumPy, Pandas, Tensorflow, etc., and packages paving the way for the developers to save time to avoid re-writing the codes from scratch. To provide more functionality and packages, they also provide Python Package Index.\n",
        "\n",
        "3. High-Level Language\n",
        "It is a high-level, general-purpose programming language. Unlike machine language like C, C++, It is a human-readable language. In other words, even a layman can understand the programs.\n",
        "\n",
        "4. Easy to learn and use\n",
        "It is easy to understand and easy to code, and anyone can learn Python within a few days. For example, a simple Python program to add two numbers is as follows:\n",
        "\n",
        "a = 8\n",
        "b = 9\n",
        "print(a+b)\n",
        "\n",
        "We have completed this program within three lines. Whereas in Java, C++ and C, it takes more lines. That is why Python is known as an easy and precise language.\n",
        "\n",
        "5. Dynamic Language\n",
        "Declaring the type of a variable is not needed. For example, let us declare an integer number 7 for a variable a. Rather than declare it as:\n",
        "\n",
        "int a = 7 ( this is necessary for statically-typed language like C)\n",
        "We declare it as\n",
        "a = 7\n",
        "\n",
        "But, the programmers have to be careful regarding runtime errors.\n",
        "\n",
        "6. Extensible Language\n",
        "Code can be used to compile in C or C++ language so that it can be utilized for our Python code. This is achieved because it converts the program to byte code.\n",
        "\n",
        "7. Interpreted Language\n",
        "Line-by-line execution of source code, converted into byte code; thus, compiling the code is not necessary, making it easy to debug if required.\n",
        "\n",
        "8. Object-Oriented Programming Language\n",
        "It supports procedural, functional, structural, and also object-oriented language such as abstraction, encapsulation, inheritance, and polymorphism which is considered important by the Python coder.\n",
        "\n",
        "9. Free and Open-source libraries\n",
        "It is a free open-source platform that can be downloaded easily from their Official Website.\n",
        "\n",
        "10. Support is provided for Graphical User Interface\n",
        "Lots of Graphical User Interface frameworks are available in Python, thus helping the software user, and it sticks to platform-specific technologies. It can be used in software development, web development, etc\n",
        "__________________________________________________________________________"
      ],
      "metadata": {
        "id": "AfA3O9ESJEDj"
      }
    },
    {
      "cell_type": "markdown",
      "source": [
        "Ques.2 Describe the  role of predefine d keyword in python and provide examples of how they  are used in a program.\n",
        "\n",
        "Ans. Key Roles of Predefined Keywords in Python\n",
        "1.Control Flow: Keywords like if, else, elif, for, while, break, and continue control the execution flow of a program.\n",
        "\n",
        "2.Data Types: Keywords such as True, False, None represent built-in data types or constants.\n",
        "\n",
        "3.Function and Class Definitions: Keywords like def, class, return are used to define functions and classes.\n",
        "\n",
        "4.Exception Handling: try, except, finally, raise are keywords for managing exceptions in Python.\n",
        "\n",
        "5.Variable Scope and Assignment: global, nonlocal, del manage variable scope and deletion.\n",
        "\n",
        "6.Logical and Comparison Operators: Keywords such as and, or, not, is, in are used for logical operations and comparisons.\n",
        "\n",
        "Examples of Predefined Keywords in Python\n",
        "\n",
        "Example 1: Control Flow (if-else)\n"
      ],
      "metadata": {
        "id": "5_rj8-FLPxQ6"
      }
    },
    {
      "cell_type": "code",
      "source": [
        "x = 10\n",
        "if x > 5:\n",
        "    print(\"x is greater than 5\")\n",
        "else:\n",
        "    print(\"x is 5 or less\")"
      ],
      "metadata": {
        "colab": {
          "base_uri": "https://localhost:8080/"
        },
        "id": "AJJuh5OJUYXb",
        "outputId": "00b18076-aa18-4023-aa52-88d7d0d1e635"
      },
      "execution_count": null,
      "outputs": [
        {
          "output_type": "stream",
          "name": "stdout",
          "text": [
            "x is greater than 5\n"
          ]
        }
      ]
    },
    {
      "cell_type": "markdown",
      "source": [
        "\n",
        "Example 2: Defining Functions (def, return)"
      ],
      "metadata": {
        "id": "0dnXrb5kUuZz"
      }
    },
    {
      "cell_type": "code",
      "source": [
        "def add(a, b):\n",
        "    return a + b\n",
        "\n",
        "result = add(5, 3)\n",
        "print(result)"
      ],
      "metadata": {
        "colab": {
          "base_uri": "https://localhost:8080/"
        },
        "id": "Gv_tzkzCU1v4",
        "outputId": "8f8bf046-67ac-4c52-fb0e-958259a28354"
      },
      "execution_count": null,
      "outputs": [
        {
          "output_type": "stream",
          "name": "stdout",
          "text": [
            "8\n"
          ]
        }
      ]
    },
    {
      "cell_type": "markdown",
      "source": [
        "Example 3: Loops and Break"
      ],
      "metadata": {
        "id": "shsURCiiVDxj"
      }
    },
    {
      "cell_type": "code",
      "source": [
        "for i in range(5):\n",
        "    if i == 3:\n",
        "        break\n",
        "    print(i)"
      ],
      "metadata": {
        "colab": {
          "base_uri": "https://localhost:8080/"
        },
        "id": "gfNfqMg0VL82",
        "outputId": "9a7911a4-25bb-46a7-9f0a-b2ae3337720b"
      },
      "execution_count": null,
      "outputs": [
        {
          "output_type": "stream",
          "name": "stdout",
          "text": [
            "0\n",
            "1\n",
            "2\n"
          ]
        }
      ]
    },
    {
      "cell_type": "markdown",
      "source": [
        "Example 4: Exception Handling (try, except, finally)"
      ],
      "metadata": {
        "id": "jJ1oJc-fVXvF"
      }
    },
    {
      "cell_type": "code",
      "source": [
        "try:\n",
        "    result = 10 / 0\n",
        "except ZeroDivisionError:\n",
        "      print(\"Cannot divide by zero!\")\n",
        "finally:\n",
        "    print(\"This will always execute.\")"
      ],
      "metadata": {
        "colab": {
          "base_uri": "https://localhost:8080/"
        },
        "id": "9BnTP0MYVdSB",
        "outputId": "03b68a7f-d0f5-4026-b314-c68ac7a6160a"
      },
      "execution_count": null,
      "outputs": [
        {
          "output_type": "stream",
          "name": "stdout",
          "text": [
            "Cannot divide by zero!\n",
            "This will always execute.\n"
          ]
        }
      ]
    },
    {
      "cell_type": "markdown",
      "source": [
        "Example 5: Logical Operators (and, or, not)\n"
      ],
      "metadata": {
        "id": "Br8KufbLVvd5"
      }
    },
    {
      "cell_type": "code",
      "source": [
        "a = True\n",
        "b = False\n",
        "\n",
        "if a and not b:   # 'and', 'not' keywords for logical comparisons\n",
        "    print(\"a is True and b is False\")"
      ],
      "metadata": {
        "colab": {
          "base_uri": "https://localhost:8080/"
        },
        "id": "0CXnAC5mVxbN",
        "outputId": "54316f70-30ea-492f-f627-28004cf77583"
      },
      "execution_count": null,
      "outputs": [
        {
          "output_type": "stream",
          "name": "stdout",
          "text": [
            "a is True and b is False\n"
          ]
        }
      ]
    },
    {
      "cell_type": "markdown",
      "source": [
        "Example 6: Defining Classes (class)\n"
      ],
      "metadata": {
        "id": "ijnqHZIdV49w"
      }
    },
    {
      "cell_type": "code",
      "source": [
        "class Dog:\n",
        "    def __init__(self, name):\n",
        "        self.name = name\n",
        "\n",
        "    def bark(self):\n",
        "        return f\"{self.name} says woof!\"\n",
        "\n",
        "my_dog = Dog(\"Buddy\")\n",
        "print(my_dog.bark())"
      ],
      "metadata": {
        "colab": {
          "base_uri": "https://localhost:8080/"
        },
        "id": "XxUojLvaWCrr",
        "outputId": "71207e52-4aba-4423-d834-2af1a30d29b3"
      },
      "execution_count": null,
      "outputs": [
        {
          "output_type": "stream",
          "name": "stdout",
          "text": [
            "Buddy says woof!\n"
          ]
        }
      ]
    },
    {
      "cell_type": "markdown",
      "source": [
        "Ques.3 compare and constrast mutable and immutables objects in python with examples\n",
        "\n",
        "Ans. objects are classified as either mutable or immutable based on whether their internal state (i.e., the values they contain) can be changed after creation. Understanding the difference between mutable and immutable objects is key for efficient programming and avoiding unintended behavior.\n",
        "\n",
        "Mutable Objects\n",
        "\n",
        "Definition: Mutable objects are those whose values or internal state can be changed after they are created. You can modify, add, or remove elements from them\n",
        "\n",
        "Common Mutable Types\n",
        "\n",
        "Lists (list)\n",
        "\n",
        "Dictionaries (dict)\n",
        "\n",
        "Sets (set)\n",
        "\n",
        "User-defined classes (unless explicitly made immutable)\n",
        "\n",
        "\n",
        "Example of a Mutable Object: list"
      ],
      "metadata": {
        "id": "9EfIVeiOYTtu"
      }
    },
    {
      "cell_type": "code",
      "source": [
        "my_list = [1, 2, 3]\n",
        "my_list[0] = 10\n",
        "print(my_list)"
      ],
      "metadata": {
        "colab": {
          "base_uri": "https://localhost:8080/"
        },
        "id": "1T2C0l34ZINO",
        "outputId": "db133507-2ecd-474e-e969-193909b616dd"
      },
      "execution_count": null,
      "outputs": [
        {
          "output_type": "stream",
          "name": "stdout",
          "text": [
            "[10, 2, 3]\n"
          ]
        }
      ]
    },
    {
      "cell_type": "markdown",
      "source": [
        "Immutable Objects\n"
      ],
      "metadata": {
        "id": "hn_INWyaZv2w"
      }
    },
    {
      "cell_type": "code",
      "source": [
        "my_str = \"hello\"       # Creating a string\n",
        "my_str[0] = \"H\"        # Trying to modify the string will result in an error\n"
      ],
      "metadata": {
        "colab": {
          "base_uri": "https://localhost:8080/",
          "height": 158
        },
        "id": "AV9lPXUDaWTP",
        "outputId": "b7296d6f-6b29-49c2-9a92-18a57a5e1772"
      },
      "execution_count": null,
      "outputs": [
        {
          "output_type": "error",
          "ename": "TypeError",
          "evalue": "'str' object does not support item assignment",
          "traceback": [
            "\u001b[0;31m---------------------------------------------------------------------------\u001b[0m",
            "\u001b[0;31mTypeError\u001b[0m                                 Traceback (most recent call last)",
            "\u001b[0;32m<ipython-input-9-9271784b0cf7>\u001b[0m in \u001b[0;36m<cell line: 2>\u001b[0;34m()\u001b[0m\n\u001b[1;32m      1\u001b[0m \u001b[0mmy_str\u001b[0m \u001b[0;34m=\u001b[0m \u001b[0;34m\"hello\"\u001b[0m       \u001b[0;31m# Creating a string\u001b[0m\u001b[0;34m\u001b[0m\u001b[0;34m\u001b[0m\u001b[0m\n\u001b[0;32m----> 2\u001b[0;31m \u001b[0mmy_str\u001b[0m\u001b[0;34m[\u001b[0m\u001b[0;36m0\u001b[0m\u001b[0;34m]\u001b[0m \u001b[0;34m=\u001b[0m \u001b[0;34m\"H\"\u001b[0m        \u001b[0;31m# Trying to modify the string will result in an error\u001b[0m\u001b[0;34m\u001b[0m\u001b[0;34m\u001b[0m\u001b[0m\n\u001b[0m",
            "\u001b[0;31mTypeError\u001b[0m: 'str' object does not support item assignment"
          ]
        }
      ]
    },
    {
      "cell_type": "markdown",
      "source": [
        "Comparison: Mutable vs Immutable\n",
        "\n",
        "Feature:\tMutable Objects\n",
        "          Immutable Objects\n",
        "\n",
        "\n",
        "Modifiability\n",
        "mutable object : Can be modified after creation.\n",
        "\n",
        "Immutable Objects:\tCannot be modified after creation.\n",
        "\n",
        "Common Types\tlist, dict, set, custom classes\n",
        "\n",
        "mutable object: int, str, tuple, frozenset, bool\n",
        "\n",
        "\n",
        "\n",
        "\n",
        "Example 1: Mutable (List) vs Immutable (Tuple)"
      ],
      "metadata": {
        "id": "MwWhYRUPa6i2"
      }
    },
    {
      "cell_type": "code",
      "source": [
        "# Mutable list\n",
        "my_list = [1, 2, 3]\n",
        "my_list.append(4)\n",
        "print(my_list)\n",
        "\n",
        "# Immutable tuple\n",
        "my_tuple = (1, 2, 3)\n",
        "my_tuple += (4,)\n",
        "print(my_tuple)"
      ],
      "metadata": {
        "colab": {
          "base_uri": "https://localhost:8080/"
        },
        "id": "VvEW-ZNAcgxp",
        "outputId": "e8556411-8bae-44b4-c781-8be24aa75d11"
      },
      "execution_count": null,
      "outputs": [
        {
          "output_type": "stream",
          "name": "stdout",
          "text": [
            "[1, 2, 3, 4]\n",
            "(1, 2, 3, 4)\n"
          ]
        }
      ]
    },
    {
      "cell_type": "markdown",
      "source": [
        "Example 2: Reference Behavior"
      ],
      "metadata": {
        "id": "oOQGC2Ihczj1"
      }
    },
    {
      "cell_type": "code",
      "source": [
        "# Mutable object reference behavior\n",
        "list1 = [1, 2, 3]\n",
        "list2 = list1\n",
        "list2.append(4)\n",
        "print(list1)\n",
        "\n",
        "# Immutable object reference behavior\n",
        "tuple1 = (1, 2, 3)\n",
        "tuple2 = tuple1\n",
        "tuple2 += (4,)\n",
        "print(tuple1)\n"
      ],
      "metadata": {
        "colab": {
          "base_uri": "https://localhost:8080/"
        },
        "id": "ufQWky4EzDAS",
        "outputId": "22d9c469-9834-4ae5-a344-35f4d215aecd"
      },
      "execution_count": null,
      "outputs": [
        {
          "output_type": "stream",
          "name": "stdout",
          "text": [
            "[1, 2, 3, 4]\n",
            "(1, 2, 3)\n"
          ]
        }
      ]
    },
    {
      "cell_type": "markdown",
      "source": [
        "Ques.4 Discuss the different types of operators in python and provides examples of how they are  used\n",
        "\n",
        "\n",
        "Ans.Types of Operators in Python\n",
        "\n",
        "Arithmetic Operators\n",
        "\n",
        "Comparison (Relational) Operators\n",
        "\n",
        "Assignment Operators\n",
        "\n",
        "Logical Operators\n",
        "\n",
        "Bitwise Operators\n",
        "\n",
        "Membership Operators\n",
        "\n",
        "Identity Operators\n",
        "\n",
        "\n",
        "1. Arithmetic Operators\n",
        "\n",
        "Arithmetic operators are used to perform mathematical operations.\n",
        "\n",
        "\n",
        "+\tAddition\n",
        "\n",
        "-\tSubtraction\n",
        "\n",
        "*\tMultiplication\n",
        "\n",
        "/\tDivision\n",
        "\n",
        "%\tModulus (remainder)\n",
        "\n",
        "**\tExponentiation (power)\n",
        "\n",
        "//\tFloor division"
      ],
      "metadata": {
        "id": "sT84i71TzW8x"
      }
    },
    {
      "cell_type": "code",
      "source": [
        "a = 10\n",
        "b = 3\n",
        "print(a + b)\n",
        "print(a - b)\n",
        "print(a * b)\n",
        "print(a / b)\n",
        "print(a % b)\n",
        "print(a ** b)\n",
        "print(a // b)"
      ],
      "metadata": {
        "colab": {
          "base_uri": "https://localhost:8080/"
        },
        "id": "EM0GzxsR1z0p",
        "outputId": "5a0c1c5f-27bc-40e5-c516-6bcc10d1b8ba"
      },
      "execution_count": null,
      "outputs": [
        {
          "output_type": "stream",
          "name": "stdout",
          "text": [
            "13\n",
            "7\n",
            "30\n",
            "3.3333333333333335\n",
            "1\n",
            "1000\n",
            "3\n"
          ]
        }
      ]
    },
    {
      "cell_type": "markdown",
      "source": [
        "2. Comparison (Relational) Operators\n",
        "\n",
        "\n",
        "Comparison operators compare two values and return either True or False.\n",
        "\n",
        "Operator\tDescription\n",
        "\n",
        "==\tEqual to\n",
        "\n",
        "!=\tNot equal to\n",
        "\n",
        ">\tGreater than\n",
        "\n",
        "<\tLess than\n",
        "\n",
        ">=\tGreater than or equal to\n",
        "\n",
        "<=\tLess than or equal to\n",
        "\n",
        "example"
      ],
      "metadata": {
        "id": "geKa7NsL4ZwX"
      }
    },
    {
      "cell_type": "code",
      "source": [
        "a = 10\n",
        "b = 5\n",
        "print(a == b)\n",
        "print(a != b)\n",
        "print(a > b)\n",
        "print(a < b)\n",
        "print(a >= b)\n",
        "print(a <= b)\n"
      ],
      "metadata": {
        "colab": {
          "base_uri": "https://localhost:8080/"
        },
        "id": "RL-XYnxx5EMN",
        "outputId": "979088aa-27a5-4f7d-ed76-935d176e3417"
      },
      "execution_count": null,
      "outputs": [
        {
          "output_type": "stream",
          "name": "stdout",
          "text": [
            "False\n",
            "True\n",
            "True\n",
            "False\n",
            "True\n",
            "False\n"
          ]
        }
      ]
    },
    {
      "cell_type": "markdown",
      "source": [
        "3. Assignment Operators\n",
        "\n",
        "Assignment operators are used to assign values to variables\n",
        "\n",
        "=\tAssigns value on the right to the left\n",
        "\n",
        "+=\tAdd and assign\n",
        "\n",
        "-=\tSubtract and assign\n",
        "\n",
        "*=\tMultiply and assign\n",
        "\n",
        "/=\tDivide and assign\n",
        "\n",
        "%=\tModulus and assign\n",
        "\n",
        "**=\tExponentiation and assign\n",
        "\n",
        "//=\tFloor division and assign\n",
        "\n"
      ],
      "metadata": {
        "id": "ToMFATF85hqY"
      }
    },
    {
      "cell_type": "code",
      "source": [
        "a = 10\n",
        "b = 5\n",
        "a += b\n",
        "print(a)\n",
        "\n",
        "a *= 2\n",
        "\n",
        "print(a)"
      ],
      "metadata": {
        "colab": {
          "base_uri": "https://localhost:8080/"
        },
        "id": "1H7TbwHh6i_G",
        "outputId": "4b86ac31-313d-4c4c-aea1-afd41f70e36f"
      },
      "execution_count": null,
      "outputs": [
        {
          "output_type": "stream",
          "name": "stdout",
          "text": [
            "15\n",
            "30\n"
          ]
        }
      ]
    },
    {
      "cell_type": "markdown",
      "source": [
        "4. Logical Operators\n",
        "\n",
        "Logical operators are used to combine conditional statements.\n",
        "\n",
        "and\n",
        "\n",
        "or\n",
        "\n",
        "not\n",
        "\n",
        "Example"
      ],
      "metadata": {
        "id": "iJraLKY46zuA"
      }
    },
    {
      "cell_type": "code",
      "source": [
        "a = True\n",
        "b = False\n",
        "print(a and b)\n",
        "print(a or b)\n",
        "print(not a)\n"
      ],
      "metadata": {
        "colab": {
          "base_uri": "https://localhost:8080/"
        },
        "id": "-YgUvqRr7LBg",
        "outputId": "d58be59b-8235-45db-9697-147e2b38c78d"
      },
      "execution_count": null,
      "outputs": [
        {
          "output_type": "stream",
          "name": "stdout",
          "text": [
            "False\n",
            "True\n",
            "False\n"
          ]
        }
      ]
    },
    {
      "cell_type": "markdown",
      "source": [
        "5. Bitwise Operators\n",
        "\n",
        "Bitwise operators perform operations on the binary representations of numbers.\n",
        "\n",
        "\n",
        "&\tBitwise AND\n",
        "\n",
        "`\t`\tBitwise OR\n",
        "\n",
        "^\tBitwise XOR\n",
        "\n",
        "~\tBitwise NOT\n",
        "\n",
        "<<\tBitwise left shift\n",
        "\n",
        ">>\tBitwise right shift\n",
        "\n",
        "Example:\n"
      ],
      "metadata": {
        "id": "grWHkO9d73tM"
      }
    },
    {
      "cell_type": "code",
      "source": [
        "a = 10\n",
        "b = 4\n",
        "\n",
        "print(a & b)\n",
        "print(a | b)\n",
        "print(a ^ b)\n",
        "print(~a)\n",
        "print(a << 1)\n",
        "print(a >> 1)"
      ],
      "metadata": {
        "colab": {
          "base_uri": "https://localhost:8080/"
        },
        "id": "lVYcIjV2_ABg",
        "outputId": "c7206ada-ac60-418b-a3c4-4873e52b540b"
      },
      "execution_count": 20,
      "outputs": [
        {
          "output_type": "stream",
          "name": "stdout",
          "text": [
            "0\n",
            "14\n",
            "14\n",
            "-11\n",
            "20\n",
            "5\n"
          ]
        }
      ]
    },
    {
      "cell_type": "markdown",
      "source": [
        "Ques.5 explain the concept of type casting in python with examples\n",
        "\n",
        "Type casting (also known as type conversion) in Python refers to the process of converting one data type into another. This is particularly useful when you need to perform operations between variables of different types or format data for input/output purposes. Python supports both implicit and explicit type casting.\n",
        "\n",
        "Types of Type Casting\n",
        "\n",
        "Implicit Type Casting\n",
        "\n",
        "Explicit Type Casting\n",
        "\n",
        "\n",
        "1. Implicit Type Casting\n",
        "\n",
        "Implicit type casting is performed by Python automatically. When Python encounters an operation that involves different data types, it attempts to convert one of the types into another in a way that prevents data loss. This happens without any explicit instruction from the programmer.\n",
        "\n",
        "Example of Implicit Type Casting:"
      ],
      "metadata": {
        "id": "yC91JjCtBbXj"
      }
    },
    {
      "cell_type": "code",
      "source": [
        "a = 10\n",
        "b = 2.5\n",
        "result = a + b\n",
        "\n",
        "print(result)\n",
        "print(type(result))\n"
      ],
      "metadata": {
        "colab": {
          "base_uri": "https://localhost:8080/"
        },
        "id": "rKnHjl6mC1xr",
        "outputId": "1eaf7ffc-86fb-48ae-d42b-3e34bdac963b"
      },
      "execution_count": 22,
      "outputs": [
        {
          "output_type": "stream",
          "name": "stdout",
          "text": [
            "12.5\n",
            "<class 'float'>\n"
          ]
        }
      ]
    },
    {
      "cell_type": "markdown",
      "source": [
        "2. Explicit Type Casting\n",
        "\n",
        "Explicit type casting is when you explicitly convert one data type to another using Python's built-in functions. This gives the programmer control over the type conversion process, and is commonly used when dealing with user inputs, file I/O, or to avoid errors when incompatible types are involved in an operation.\n",
        "\n",
        "Python provides several built-in functions for explicit type casting:\n",
        "\n",
        "int() : Converts to integer\n",
        "\n",
        "float() : Converts to float\n",
        "\n",
        "str() : Converts to string\n",
        "\n",
        "list() : Converts to list\n",
        "\n",
        "tuple() : Converts to tuple\n",
        "\n",
        "set() : Converts to set\n",
        "\n",
        "bool() : Converts to boolean\n",
        "\n",
        "Example of Explicit Type Casting:\n",
        "\n"
      ],
      "metadata": {
        "id": "x9HPn8c7E0Vl"
      }
    },
    {
      "cell_type": "code",
      "source": [
        "# Converting a float to an integer\n",
        "num = 10.6\n",
        "int_num = int(num)\n",
        "print(int_num)\n",
        "\n",
        "# Converting a string to an integer\n",
        "str_num = \"100\"\n",
        "int_num = int(str_num)\n",
        "print(int_num)\n",
        "\n",
        "# Converting a list to a set\n",
        "my_list = [1, 2, 2, 3]\n",
        "my_set = set(my_list)\n",
        "print(my_set)\n",
        "\n",
        "# Converting a number to a string\n",
        "num = 20\n",
        "str_num = str(num)\n",
        "print(str_num)\n",
        "print(type(str_num))\n"
      ],
      "metadata": {
        "colab": {
          "base_uri": "https://localhost:8080/"
        },
        "id": "bXTwfPWMFXnl",
        "outputId": "dfec7492-0984-40cb-e683-51083cdee0b9"
      },
      "execution_count": 23,
      "outputs": [
        {
          "output_type": "stream",
          "name": "stdout",
          "text": [
            "10\n",
            "100\n",
            "{1, 2, 3}\n",
            "20\n",
            "<class 'str'>\n"
          ]
        }
      ]
    },
    {
      "cell_type": "markdown",
      "source": [
        "Ques.6 how do conditional statements work in python? Illustrate with examples.\n",
        "\n",
        "ans.Conditional statements in Python allow you to execute certain blocks of code based on whether a condition (or set of conditions) evaluates to True or False. They are used to control the flow of a program by making decisions at runtime. The most common conditional statements in Python are if, elif, and else.\n",
        "\n",
        "1. if Statement\n",
        "\n",
        "The if statement checks a condition, and if the condition is True, the code block inside the if statement is executed.\n",
        "\n",
        "Example:\n",
        "\n",
        "\n",
        "\n"
      ],
      "metadata": {
        "id": "y0nCG6iQGSqX"
      }
    },
    {
      "cell_type": "code",
      "source": [
        "x = 10\n",
        "if x > 5:\n",
        "    print(\"x is greater than 5\")"
      ],
      "metadata": {
        "colab": {
          "base_uri": "https://localhost:8080/"
        },
        "id": "BMJHPuPgIETD",
        "outputId": "448917b1-4576-4b2e-ec1f-505618b105b1"
      },
      "execution_count": 24,
      "outputs": [
        {
          "output_type": "stream",
          "name": "stdout",
          "text": [
            "x is greater than 5\n"
          ]
        }
      ]
    },
    {
      "cell_type": "markdown",
      "source": [
        "2. else Statement\n",
        "\n",
        "The else statement is used to define an alternative block of code that will be executed if the if condition is False.\n",
        "\n"
      ],
      "metadata": {
        "id": "9ddtO6viIKfO"
      }
    },
    {
      "cell_type": "code",
      "source": [
        "x = 3\n",
        "if x > 5:\n",
        "    print(\"x is greater than 5\")\n",
        "else:\n",
        "    print(\"x is less than or equal to 5\")\n"
      ],
      "metadata": {
        "colab": {
          "base_uri": "https://localhost:8080/"
        },
        "id": "hIepEyLQIQBt",
        "outputId": "9d825884-46b2-41c1-9062-53047085d75b"
      },
      "execution_count": 25,
      "outputs": [
        {
          "output_type": "stream",
          "name": "stdout",
          "text": [
            "x is less than or equal to 5\n"
          ]
        }
      ]
    },
    {
      "cell_type": "markdown",
      "source": [
        "3. elif (Else If) Statement\n",
        "\n",
        "The elif statement is short for \"else if\" and allows you to check multiple conditions in sequence. It’s used when you want to check additional conditions after the first if condition.\n",
        "\n",
        "\n",
        "Example:\n",
        "\n",
        "\n",
        "\n"
      ],
      "metadata": {
        "id": "wHSy_pkMIbL_"
      }
    },
    {
      "cell_type": "code",
      "source": [
        "x = 7\n",
        "if x > 10:\n",
        "    print(\"x is greater than 10\")\n",
        "elif x > 5:\n",
        "    print(\"x is greater than 5 but less than or equal to 10\")\n",
        "else:\n",
        "    print(\"x is 5 or less\")"
      ],
      "metadata": {
        "colab": {
          "base_uri": "https://localhost:8080/"
        },
        "id": "4vTVKlCPImI1",
        "outputId": "919d5301-cb5a-42b2-f903-24d11e9450db"
      },
      "execution_count": 26,
      "outputs": [
        {
          "output_type": "stream",
          "name": "stdout",
          "text": [
            "x is greater than 5 but less than or equal to 10\n"
          ]
        }
      ]
    },
    {
      "cell_type": "markdown",
      "source": [
        "4. Nested if Statements\n",
        "\n",
        "You can nest if, elif, and else statements within one another to create more complex conditions.\n",
        "\n",
        "example\n"
      ],
      "metadata": {
        "id": "2MabUU3NJAuu"
      }
    },
    {
      "cell_type": "code",
      "source": [
        "x = 10\n",
        "y = 20\n",
        "\n",
        "if x > 5:\n",
        "    if y > 15:\n",
        "        print(\"x is greater than 5 and y is greater than 15\")\n",
        "    else:\n",
        "        print(\"x is greater than 5 but y is not greater than 15\")\n",
        "else:\n",
        "    print(\"x is less than or equal to 5\")\n"
      ],
      "metadata": {
        "colab": {
          "base_uri": "https://localhost:8080/"
        },
        "id": "AXRwpC-sJNum",
        "outputId": "bb0477f5-53eb-4511-8844-e64ba3322172"
      },
      "execution_count": 27,
      "outputs": [
        {
          "output_type": "stream",
          "name": "stdout",
          "text": [
            "x is greater than 5 and y is greater than 15\n"
          ]
        }
      ]
    },
    {
      "cell_type": "markdown",
      "source": [
        "5. Using Logical Operators in Conditional Statements\n",
        "\n",
        "Logical operators like and, or, and not can be used in if conditions to combine multiple conditions.\n",
        "\n",
        "Example"
      ],
      "metadata": {
        "id": "ekve3LoSJUx3"
      }
    },
    {
      "cell_type": "code",
      "source": [
        "age = 25\n",
        "income = 50000\n",
        "\n",
        "if age > 18 and income > 30000:\n",
        "    print(\"Eligible for a loan\")\n",
        "else:\n",
        "    print(\"Not eligible for a loan\")"
      ],
      "metadata": {
        "colab": {
          "base_uri": "https://localhost:8080/"
        },
        "id": "mRGZgb0aJjE-",
        "outputId": "686da66c-7f77-4790-daad-f1245fb34535"
      },
      "execution_count": 28,
      "outputs": [
        {
          "output_type": "stream",
          "name": "stdout",
          "text": [
            "Eligible for a loan\n"
          ]
        }
      ]
    },
    {
      "cell_type": "markdown",
      "source": [
        "Example with or:"
      ],
      "metadata": {
        "id": "XcqnfPs5JqKh"
      }
    },
    {
      "cell_type": "code",
      "source": [
        "temperature = 30\n",
        "if temperature < 0 or temperature > 35:\n",
        "    print(\"Extreme weather conditions\")\n",
        "else:\n",
        "    print(\"Weather is moderate\")\n"
      ],
      "metadata": {
        "colab": {
          "base_uri": "https://localhost:8080/"
        },
        "id": "JxnRV3NXJtMA",
        "outputId": "cdbf5057-68d9-4aae-928c-05a84ea539a7"
      },
      "execution_count": 29,
      "outputs": [
        {
          "output_type": "stream",
          "name": "stdout",
          "text": [
            "Weather is moderate\n"
          ]
        }
      ]
    },
    {
      "cell_type": "markdown",
      "source": [
        "Example with not:\n"
      ],
      "metadata": {
        "id": "nj2tSigmJ3mO"
      }
    },
    {
      "cell_type": "code",
      "source": [
        "is_raining = False\n",
        "\n",
        "if not is_raining:\n",
        "    print(\"It's not raining, you can go outside\")"
      ],
      "metadata": {
        "colab": {
          "base_uri": "https://localhost:8080/"
        },
        "id": "MUGF4ls4J4hE",
        "outputId": "3b074d8b-bd6f-4f48-9252-889391d5a1fc"
      },
      "execution_count": 30,
      "outputs": [
        {
          "output_type": "stream",
          "name": "stdout",
          "text": [
            "It's not raining, you can go outside\n"
          ]
        }
      ]
    },
    {
      "cell_type": "markdown",
      "source": [
        "6. Ternary Conditional Operator (Inline if Statement)\n",
        "\n",
        "Python allows a shorthand way to write if statements in one line using the ternary conditional operator.\n",
        "\n",
        "Example:"
      ],
      "metadata": {
        "id": "W_zYPMSFJ88s"
      }
    },
    {
      "cell_type": "code",
      "source": [
        "age = 20\n",
        "status = \"Adult\" if age >= 18 else \"Minor\"\n",
        "print(status)"
      ],
      "metadata": {
        "colab": {
          "base_uri": "https://localhost:8080/"
        },
        "id": "aNWcvlUZKR15",
        "outputId": "991c84fb-4ba2-4056-af25-3eca572009c6"
      },
      "execution_count": 31,
      "outputs": [
        {
          "output_type": "stream",
          "name": "stdout",
          "text": [
            "Adult\n"
          ]
        }
      ]
    },
    {
      "cell_type": "markdown",
      "source": [
        "7. Conditional Statements with Multiple Conditions\n",
        "\n",
        "Python supports using multiple conditions with if, elif, and else.\n",
        "\n",
        "Example:"
      ],
      "metadata": {
        "id": "HlOBbLOUKiFg"
      }
    },
    {
      "cell_type": "code",
      "source": [
        "grade = 85\n",
        "\n",
        "if grade >= 90:\n",
        "    print(\"A\")\n",
        "elif grade >= 80:\n",
        "    print(\"B\")\n",
        "elif grade >= 70:\n",
        "    print(\"C\")\n",
        "else:\n",
        "    print(\"F\")\n"
      ],
      "metadata": {
        "colab": {
          "base_uri": "https://localhost:8080/"
        },
        "id": "1rxPVwFXKrLL",
        "outputId": "0d1c7b59-5294-4c18-d48e-29f1d3d9cdaf"
      },
      "execution_count": 32,
      "outputs": [
        {
          "output_type": "stream",
          "name": "stdout",
          "text": [
            "B\n"
          ]
        }
      ]
    },
    {
      "cell_type": "markdown",
      "source": [
        "QUES.7 Describe the different types of loops  in python and their use cases with examples\n",
        "\n",
        "ANS. Loops in Python are control structures that allow you to repeat a block of code multiple times. Python supports two primary types of loops:\n",
        "\n",
        "for loop\n",
        "\n",
        "while loop\n",
        "\n",
        "Each loop type is suited for different use cases, depending on how many times you want the code to run and how you structure your iteration.\n",
        "\n",
        "1. for Loop\n",
        "\n",
        "A for loop is used when you know in advance how many times you want to iterate over a sequence (such as a list, tuple, string, or range). It iterates over the elements of a sequence or any other iterable object, executing the block of code for each element.\n",
        "\n",
        "Syntax:\n",
        "for item in sequence:\n",
        "\n",
        "Example 1: Iterating over a list\n"
      ],
      "metadata": {
        "id": "tbEZe3LSLWcU"
      }
    },
    {
      "cell_type": "code",
      "source": [
        "fruits = [\"apple\", \"banana\", \"cherry\"]\n",
        "for fruit in fruits:\n",
        "    print(fruit)"
      ],
      "metadata": {
        "colab": {
          "base_uri": "https://localhost:8080/"
        },
        "id": "zz0lCDpzNmDQ",
        "outputId": "32996433-68c2-4574-eb09-961e8a2ae508"
      },
      "execution_count": 33,
      "outputs": [
        {
          "output_type": "stream",
          "name": "stdout",
          "text": [
            "apple\n",
            "banana\n",
            "cherry\n"
          ]
        }
      ]
    },
    {
      "cell_type": "markdown",
      "source": [
        "Example 2: Using range() with a for loop"
      ],
      "metadata": {
        "id": "s5gL3m02Nwcq"
      }
    },
    {
      "cell_type": "code",
      "source": [
        "for i in range(5):\n",
        "    print(i)\n"
      ],
      "metadata": {
        "colab": {
          "base_uri": "https://localhost:8080/"
        },
        "id": "UrUApzPUNyo9",
        "outputId": "52798d35-154c-4f3e-d27a-8451d2dec238"
      },
      "execution_count": 34,
      "outputs": [
        {
          "output_type": "stream",
          "name": "stdout",
          "text": [
            "0\n",
            "1\n",
            "2\n",
            "3\n",
            "4\n"
          ]
        }
      ]
    },
    {
      "cell_type": "markdown",
      "source": [
        "Example 3: Iterating over a string"
      ],
      "metadata": {
        "id": "58rgTg_xN9PE"
      }
    },
    {
      "cell_type": "code",
      "source": [
        "name = \"Python\"\n",
        "for letter in name:\n",
        "    print(letter)"
      ],
      "metadata": {
        "colab": {
          "base_uri": "https://localhost:8080/"
        },
        "id": "fGEW8s9xOCSK",
        "outputId": "d2d415aa-91e2-480f-9214-020a575f84c0"
      },
      "execution_count": 35,
      "outputs": [
        {
          "output_type": "stream",
          "name": "stdout",
          "text": [
            "P\n",
            "y\n",
            "t\n",
            "h\n",
            "o\n",
            "n\n"
          ]
        }
      ]
    },
    {
      "cell_type": "markdown",
      "source": [
        "2. while Loop\n",
        "\n",
        "A while loop repeatedly executes a block of code as long as the condition provided is True. The loop continues until the condition becomes False.\n",
        "\n",
        "Example 1: Basic while loop"
      ],
      "metadata": {
        "id": "D8lByIbWOLhM"
      }
    },
    {
      "cell_type": "code",
      "source": [
        "i = 1\n",
        "while i <= 5:\n",
        "    print(i)\n",
        "    i += 1"
      ],
      "metadata": {
        "colab": {
          "base_uri": "https://localhost:8080/"
        },
        "id": "dS-U_Nw5Oby0",
        "outputId": "5f7cc28f-39ee-4f77-f9a0-edf836b2526f"
      },
      "execution_count": 36,
      "outputs": [
        {
          "output_type": "stream",
          "name": "stdout",
          "text": [
            "1\n",
            "2\n",
            "3\n",
            "4\n",
            "5\n"
          ]
        }
      ]
    },
    {
      "cell_type": "markdown",
      "source": [
        "Example 2: Using while with a user input condition"
      ],
      "metadata": {
        "id": "bk3vWDoyOgsR"
      }
    },
    {
      "cell_type": "code",
      "source": [
        "password = \"\"\n",
        "while password != \"secret\":\n",
        "    password = input(\"Enter the password: \")\n",
        "print(\"Access granted!\")"
      ],
      "metadata": {
        "colab": {
          "base_uri": "https://localhost:8080/"
        },
        "id": "k_TGmiGqO3Bx",
        "outputId": "22183e36-eeac-4707-8c57-6544b377cd97"
      },
      "execution_count": 38,
      "outputs": [
        {
          "output_type": "stream",
          "name": "stdout",
          "text": [
            "Enter the password: secret\n",
            "Access granted!\n"
          ]
        }
      ]
    },
    {
      "cell_type": "markdown",
      "source": [
        "3. Control Statements within Loops\n",
        "\n",
        "Python provides control statements to alter the flow of loops:\n",
        "\n",
        "break: Exits the loop prematurely when a condition is met.\n",
        "\n",
        "continue: Skips the current iteration and continues with the next one.\n",
        "\n",
        "else with loops: Runs if the loop completes normally without encountering a break.\n",
        "\n",
        "Using break in Loops\n",
        "The break statement is used to exit a loop early when a specific condition is met.\n",
        "\n",
        "Example:\n"
      ],
      "metadata": {
        "id": "y39tfy6UO_6a"
      }
    },
    {
      "cell_type": "code",
      "source": [
        "for i in range(10):\n",
        "    if i == 5:\n",
        "        break  # Exit the loop when i equals 5\n",
        "    print(i)"
      ],
      "metadata": {
        "colab": {
          "base_uri": "https://localhost:8080/"
        },
        "id": "vMbX1EdkPeTu",
        "outputId": "559be3ef-5c0c-47f3-f4e6-488241cf182e"
      },
      "execution_count": 39,
      "outputs": [
        {
          "output_type": "stream",
          "name": "stdout",
          "text": [
            "0\n",
            "1\n",
            "2\n",
            "3\n",
            "4\n"
          ]
        }
      ]
    },
    {
      "cell_type": "markdown",
      "source": [
        "Using continue in Loops\n",
        "\n",
        "The continue statement skips the rest of the current iteration and moves to the next one.\n",
        "\n",
        "Example:\n"
      ],
      "metadata": {
        "id": "-2udOA2PPlYk"
      }
    },
    {
      "cell_type": "code",
      "source": [
        "for i in range(5):\n",
        "    if i == 2:\n",
        "        continue  # Skip the iteration where i equals 2\n",
        "    print(i)"
      ],
      "metadata": {
        "colab": {
          "base_uri": "https://localhost:8080/"
        },
        "id": "YdhFpmxQPs8h",
        "outputId": "809bd3a0-a924-48bb-fe13-96026fb1aebb"
      },
      "execution_count": 40,
      "outputs": [
        {
          "output_type": "stream",
          "name": "stdout",
          "text": [
            "0\n",
            "1\n",
            "3\n",
            "4\n"
          ]
        }
      ]
    },
    {
      "cell_type": "markdown",
      "source": [
        "Using else with Loops\n",
        "\n",
        "An else clause can be used with loops to execute code after the loop finishes, unless the loop is terminated by a break.\n",
        "\n",
        "Example with for loop:"
      ],
      "metadata": {
        "id": "zTialox5QAj_"
      }
    },
    {
      "cell_type": "code",
      "source": [
        "for i in range(5):\n",
        "    print(i)\n",
        "else:\n",
        "    print(\"Loop completed successfully!\")\n"
      ],
      "metadata": {
        "colab": {
          "base_uri": "https://localhost:8080/"
        },
        "id": "2bubxNC3QGlQ",
        "outputId": "aded84a9-b7da-4186-a08c-2b2f4ea5fb9c"
      },
      "execution_count": 41,
      "outputs": [
        {
          "output_type": "stream",
          "name": "stdout",
          "text": [
            "0\n",
            "1\n",
            "2\n",
            "3\n",
            "4\n",
            "Loop completed successfully!\n"
          ]
        }
      ]
    },
    {
      "cell_type": "markdown",
      "source": [
        "Example with break:"
      ],
      "metadata": {
        "id": "7C9mIQPSQNY5"
      }
    },
    {
      "cell_type": "code",
      "source": [
        "for i in range(5):\n",
        "    if i == 3:\n",
        "        break\n",
        "    print(i)\n",
        "else:\n",
        "    print(\"This won't be printed because of the break\")"
      ],
      "metadata": {
        "colab": {
          "base_uri": "https://localhost:8080/"
        },
        "id": "NgFUtoHdQPQW",
        "outputId": "91995dcc-fd68-4952-8cf7-5dd71a2966ba"
      },
      "execution_count": 42,
      "outputs": [
        {
          "output_type": "stream",
          "name": "stdout",
          "text": [
            "0\n",
            "1\n",
            "2\n"
          ]
        }
      ]
    },
    {
      "cell_type": "markdown",
      "source": [
        "4. Nested Loops\n",
        "\n",
        "You can place one loop inside another loop to create nested loops. Nested loops are useful when dealing with multi-dimensional data, like lists of lists or matrices.\n",
        "\n",
        "Example of a Nested for Loop:\n"
      ],
      "metadata": {
        "id": "TN0hEdT1QXPj"
      }
    },
    {
      "cell_type": "code",
      "source": [
        "matrix = [[1, 2, 3], [4, 5, 6], [7, 8, 9]]\n",
        "\n",
        "for row in matrix:\n",
        "    for element in row:\n",
        "        print(element, end=\" \")\n",
        "    print()"
      ],
      "metadata": {
        "colab": {
          "base_uri": "https://localhost:8080/"
        },
        "id": "ef_TfMr9QeWH",
        "outputId": "41310e04-0054-48d8-cfc3-e9e6965636f0"
      },
      "execution_count": 43,
      "outputs": [
        {
          "output_type": "stream",
          "name": "stdout",
          "text": [
            "1 2 3 \n",
            "4 5 6 \n",
            "7 8 9 \n"
          ]
        }
      ]
    },
    {
      "cell_type": "markdown",
      "source": [
        "5. Infinite Loops\n",
        "\n",
        "An infinite loop occurs when the condition in a while loop never becomes False. These are sometimes necessary, but they should be controlled with a break statement or by ensuring the loop condition will eventually change.\n",
        "\n",
        "Example of an Infinite Loop:\n"
      ],
      "metadata": {
        "id": "BOQ6TjDnQo_Y"
      }
    },
    {
      "cell_type": "code",
      "source": [
        "while True:\n",
        "    user_input = input(\"Type 'exit' to stop: \")\n",
        "    if user_input == 'exit':\n",
        "        break"
      ],
      "metadata": {
        "colab": {
          "base_uri": "https://localhost:8080/"
        },
        "id": "JZ3myKmEQzWn",
        "outputId": "30a10fd8-d687-445e-91b9-3e1cc0f8d214"
      },
      "execution_count": 44,
      "outputs": [
        {
          "name": "stdout",
          "output_type": "stream",
          "text": [
            "Type 'exit' to stop: exit\n"
          ]
        }
      ]
    }
  ]
}